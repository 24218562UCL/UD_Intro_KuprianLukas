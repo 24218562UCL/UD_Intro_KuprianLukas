{
 "cells": [
  {
   "cell_type": "markdown",
   "id": "38e188a5",
   "metadata": {},
   "source": [
    "# Exercise 00\n",
    "Write a piece of code that allocates a list of 20 integers and initializes each element by its index multiplied by 5. Print the result."
   ]
  },
  {
   "cell_type": "code",
   "execution_count": 19,
   "id": "01aa4f35",
   "metadata": {},
   "outputs": [
    {
     "name": "stdout",
     "output_type": "stream",
     "text": [
      "[5, 10, 15, 20, 25, 30, 35, 40, 45, 50, 55, 60, 65, 70, 75, 80, 85, 90, 95, 100]\n"
     ]
    }
   ],
   "source": [
    "my_list= [n*5 for n in range(1,21)]\n",
    "\n",
    "print(my_list)\n"
   ]
  },
  {
   "cell_type": "markdown",
   "id": "529d91ae",
   "metadata": {},
   "source": [
    "# Exercise 01\n",
    "Define a function that takes an integer as input, prints  all integers that it is divisable by, and returns the largest one."
   ]
  },
  {
   "cell_type": "code",
   "execution_count": 45,
   "id": "30e79132",
   "metadata": {},
   "outputs": [
    {
     "name": "stdin",
     "output_type": "stream",
     "text": [
      "Enter an whole number:  23\n"
     ]
    },
    {
     "name": "stdout",
     "output_type": "stream",
     "text": [
      "the divisor of 23 are: [1, 23]\n"
     ]
    }
   ],
   "source": [
    "def divisors(n):\n",
    "\n",
    "    div=[]\n",
    "    for i in range(1,n+1):\n",
    "        if n % i==0:\n",
    "            div.append(i)\n",
    "\n",
    "    print(f\"the divisor of {n} are: {div}\")\n",
    "\n",
    "try: \n",
    "    num = int(input(\"Enter an whole number: \"))\n",
    "    \n",
    "    if num > 0:\n",
    "        divisors(num)\n",
    "\n",
    "    else: \n",
    "        print(\"Please enter a positive integer, above 0.\")\n",
    "\n",
    "except ValueError:\n",
    "    print(\"Invalid Number, Please enter a Whole Number (eg.1,4,6,12,234,..)\")\n",
    "          \n",
    "        \n",
    "    \n",
    "\n",
    "         "
   ]
  },
  {
   "cell_type": "markdown",
   "id": "cfbe30d4",
   "metadata": {},
   "source": [
    "# Exercise 02\n",
    "- create a dictionary with 6 keys and values of your choice\n",
    "- write a function that takes a dictionary and a value as input and returns whether the value occurs as a key in the dictionary\n",
    "- write a function that takes a dictionary as input, and returns the dictionary but the keys are swapped with their values (resolve the issue if a value occurs twice!)"
   ]
  },
  {
   "cell_type": "code",
   "execution_count": 42,
   "id": "2123f1c6",
   "metadata": {},
   "outputs": [
    {
     "name": "stdout",
     "output_type": "stream",
     "text": [
      " Is 'Red' a key? False\n",
      "Swapped Dictionary:\n",
      "Porsche Brand\n",
      "911 Model\n",
      "1964 year\n",
      "Black Colour\n",
      "6 Zylinders\n",
      "160 speed\n"
     ]
    }
   ],
   "source": [
    "testdict01= { \n",
    "    \"Brand\":\"Porsche\",\n",
    "    \"Model\":\"911\",\n",
    "    \"year\" : \"1964\",\n",
    "    \"Colour\":\"Black\",\n",
    "    \"Zylinders\":\"6\",\n",
    "    \"speed\":\"160\" }\n",
    "\n",
    "def is_value_key (dic,val):\n",
    "    return val in dic\n",
    "\n",
    "def swappeddict (Dictionary):\n",
    "    swapped = {}\n",
    "    for key, value in Dictionary.items():\n",
    "        if value not in swapped:\n",
    "            swapped[value] = key\n",
    "        else:\n",
    "            if isinstance(swapped[value],list):\n",
    "                swapped[value].append(key)\n",
    "            else:\n",
    "                swapped[value] = [swapped[value], key]\n",
    "    return swapped\n",
    "    \n",
    "    \n",
    "\n",
    "value_to_check = \"Red\"\n",
    "print(f\" Is '{value_to_check}' a key? {is_value_key(testdict01,value_to_check)}\")\n",
    "\n",
    "swapped_dict= swappeddict(testdict01)\n",
    "print (\"Swapped Dictionary:\")\n",
    "for x in swapped_dict:\n",
    "    print (x,swapped_dict[x])\n"
   ]
  },
  {
   "cell_type": "markdown",
   "id": "b4b4e426",
   "metadata": {},
   "source": [
    "# Exercise 03\n",
    "Define a function that creates a dictionary of the first n fibonacci numbers as values paired with their indices as keys. "
   ]
  },
  {
   "cell_type": "code",
   "execution_count": 35,
   "id": "7845b5a4",
   "metadata": {},
   "outputs": [
    {
     "name": "stdin",
     "output_type": "stream",
     "text": [
      "Input a Whole number here:  12\n"
     ]
    },
    {
     "name": "stdout",
     "output_type": "stream",
     "text": [
      "0 0\n",
      "1 1\n",
      "2 1\n",
      "3 2\n",
      "4 3\n",
      "5 5\n",
      "6 8\n",
      "7 13\n",
      "8 21\n",
      "9 34\n",
      "10 55\n",
      "11 89\n"
     ]
    }
   ],
   "source": [
    "def fibdictionary (n):\n",
    "    fib_dic = {} #empty dictionary\n",
    "    a,b = 0,1 # start values of fib seq\n",
    "    for i in range (n):\n",
    "        fib_dic[i] = a #storing fib numbers with index\n",
    "        a, b = b,a + b #move through fib sequenze \n",
    "    return fib_dic\n",
    "\n",
    "n= int(input(\"Input a Whole number here: \")) #user input\n",
    "\n",
    "final_fib_dic = fibdictionary(n) #final fib defined\n",
    "\n",
    "for x in final_fib_dic: #print exicute of final fibdic \n",
    "    print(x,final_fib_dic[x])\n",
    "\n"
   ]
  },
  {
   "cell_type": "code",
   "execution_count": null,
   "id": "9b9b7288-d796-4886-91e5-b4f7f13c0eaf",
   "metadata": {},
   "outputs": [],
   "source": []
  }
 ],
 "metadata": {
  "kernelspec": {
   "display_name": "Python 3 (ipykernel)",
   "language": "python",
   "name": "python3"
  },
  "language_info": {
   "codemirror_mode": {
    "name": "ipython",
    "version": 3
   },
   "file_extension": ".py",
   "mimetype": "text/x-python",
   "name": "python",
   "nbconvert_exporter": "python",
   "pygments_lexer": "ipython3",
   "version": "3.11.10"
  }
 },
 "nbformat": 4,
 "nbformat_minor": 5
}
