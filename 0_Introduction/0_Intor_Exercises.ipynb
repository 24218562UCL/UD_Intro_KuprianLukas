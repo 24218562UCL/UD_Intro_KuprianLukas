{
 "cells": [
  {
   "cell_type": "markdown",
   "id": "529d91ae",
   "metadata": {
    "tags": []
   },
   "source": [
    "# Exercise 00\n",
    "Write a bit of code that prints _Introduction to Programming_ to the console and execute the cell"
   ]
  },
  {
   "cell_type": "code",
   "execution_count": null,
   "id": "98711beb",
   "metadata": {},
   "outputs": [],
   "source": [
    "print(\"Introduction to Programming\") "
   ]
  },
  {
   "cell_type": "markdown",
   "id": "63ad5023",
   "metadata": {},
   "source": [
    "-----------------------------------------------------------------------------\n",
    "# Exercise 01\n",
    "Hello World is traditionally the first program anyone writes. It is\n",
    "very simple and the only thing it should do is print Hello World! to the\n",
    "terminal window.\n",
    "Create a file called HelloWorld.py and edit the contents so it prints Hello World! to the terminal and execute it using the command line."
   ]
  },
  {
   "cell_type": "markdown",
   "id": "a4a7c4c2",
   "metadata": {},
   "source": [
    "-----------------------------------------------------------------------------\n",
    "# Exercise 02\n",
    "Write some code to print your name, email, and age on separate lines. For each element first assign it to a variable and use the variable to print. \n",
    "\n",
    "Bonus: try to create the print statement for all variable in one line of code. (hint: '\\n' is the character for a new line)"
   ]
  },
  {
   "cell_type": "code",
   "execution_count": 5,
   "id": "fc8fface",
   "metadata": {},
   "outputs": [
    {
     "name": "stdout",
     "output_type": "stream",
     "text": [
      "Lukas Kuprian \n",
      " ucbvlmk@ucl.ac.uk \n",
      " 25\n"
     ]
    }
   ],
   "source": [
    "FN=\"Lukas\" #defin FN\n",
    "LN=\"Kuprian\" #defin LN\n",
    "EM=\"ucbvlmk@ucl.ac.uk\" #define EM\n",
    "AG=25 #define AG \n",
    "print(FN,LN,'\\n',EM,'\\n',AG) # one line code to print on seperat lines (unsure why EM and AG are pushed by one space)\n"
   ]
  },
  {
   "cell_type": "markdown",
   "id": "0dd1c1d1",
   "metadata": {},
   "source": [
    "-----------------------------------------------------------------------------\n",
    "# Exercise 03\n",
    "Print the numbers 0, 178, -21, 2938 divided by 49, 436 multiplied with 9948 and 12 to the power of 20\n",
    "\n",
    "(Hint: Look up the documentation of basic arithmetic operators)"
   ]
  },
  {
   "cell_type": "code",
   "execution_count": 6,
   "id": "f3d5d009",
   "metadata": {},
   "outputs": [
    {
     "name": "stdout",
     "output_type": "stream",
     "text": [
      "0 178 -21\n",
      "59.95918367346939 \n",
      " 4337328 \n",
      " 3833759992447475122176\n"
     ]
    }
   ],
   "source": [
    "print(0,178,-21) #print exicution\n",
    "N1= 2938/49 # defining n1 by dividing \n",
    "N2= 436*9948 #defining n2 by multiplying\n",
    "N3= 12**20 #defining N3 by multyplying to the power\n",
    "print(N1,'\\n',N2,'\\n',N3) #print statment comand in on line with seperated lines "
   ]
  },
  {
   "cell_type": "markdown",
   "id": "406906a6-c5eb-4f6c-befc-f9fe0ea9b348",
   "metadata": {},
   "source": [
    "-----------------------------------------------------------------------------\n",
    "# Exercise 04\n",
    "Print sin(200), cos(100), tan($\\pi$/4)\n",
    "\n",
    "(Hint: Look up for how to use trigonometric function, and how to get the value of $\\pi$.)"
   ]
  },
  {
   "cell_type": "code",
   "execution_count": 21,
   "id": "d0e37690",
   "metadata": {},
   "outputs": [
    {
     "name": "stdout",
     "output_type": "stream",
     "text": [
      "-0.34202014332566866\n",
      "-0.1736481776669303\n",
      "0.9999999999999999\n"
     ]
    }
   ],
   "source": [
    "import math #import math libary for pi and etc\n",
    "pi=math.pi #defining pi as math.pi ( clear understanding) \n",
    "\n",
    "sin=math.sin(math.radians(200)) # defining sin as math sin calcuation change to radians) \n",
    "cos=math.cos(math.radians(100)) # defining cos as math cos calcuation change to radians) \n",
    "tan=math.tan(pi/4) # defining tan as math tan (pi/4) calcuation) \n",
    "\n",
    "print(sin) #print statement \n",
    "print(cos) #print statement \n",
    "print(tan)#print statement\n",
    "\n",
    "\n",
    "\n"
   ]
  },
  {
   "cell_type": "markdown",
   "id": "9d026820",
   "metadata": {},
   "source": [
    "-----------------------------------------------------------------------------\n",
    "# Exercise 05\n",
    "Write a program to read your first and last names from the console seperately, and then print them on the console together, separated by a space."
   ]
  },
  {
   "cell_type": "code",
   "execution_count": 22,
   "id": "4c7217e0",
   "metadata": {},
   "outputs": [
    {
     "name": "stdin",
     "output_type": "stream",
     "text": [
      "First Name Lukas \n",
      "Second Name Kuprian\n"
     ]
    },
    {
     "name": "stdout",
     "output_type": "stream",
     "text": [
      "Lukas  Kuprian\n"
     ]
    }
   ],
   "source": [
    "f_n= input(\"First Name\") # defining f_n as user Input first name \n",
    "s_n= input (\"Second Name\") #defining s_n as user Input second name\n",
    "\n",
    "phrase = f_n + ' ' + s_n #defining phrase by combination of inputs incl space\n",
    "print(phrase) #print exicution "
   ]
  },
  {
   "cell_type": "markdown",
   "id": "e83fa346",
   "metadata": {},
   "source": [
    "-----------------------------------------------------------------------------\n",
    "# Exercise 06\n",
    "Write a program that determines whether a number given as user input is positive or negative\n",
    " \n",
    "You will need to convert the console input from a string to a number first!"
   ]
  },
  {
   "cell_type": "code",
   "execution_count": null,
   "id": "ecd924c2",
   "metadata": {},
   "outputs": [],
   "source": [
    "N1=int(input(\"Please input your Number here: \")) #input location for user  \n",
    "\n",
    "if N1>0: # evaluation if N1 in relation to positive above Zero \n",
    "    print(\"The Number is Positive\") # print statement  \n",
    "elif N1<0: #evaluation if N1 is below Zero \n",
    "    print (\"The Number is negative\") # print statement\n",
    "    \n",
    "\n",
    "\n"
   ]
  },
  {
   "cell_type": "markdown",
   "id": "2a192596",
   "metadata": {},
   "source": [
    "-----------------------------------------------------------------------------\n",
    "# Exercise 07\n",
    "Write a program that picks a random number between 1-20 and makes the user guess until they get the number right. Then print a congratulations message\n",
    "- (Find out yourself how to generate a random integer)\n",
    "- Bonus: make the user choose the range within which they have to guess\n",
    "- Bonus: keep track of how many guesses were made and print this at the end"
   ]
  },
  {
   "cell_type": "code",
   "execution_count": 46,
   "id": "70358dd3",
   "metadata": {},
   "outputs": [
    {
     "name": "stdin",
     "output_type": "stream",
     "text": [
      "Choose start of your Guess Range 5\n",
      "Choose end of you Guess Range 8\n",
      "guess a number from 5-8:  6\n"
     ]
    },
    {
     "name": "stdout",
     "output_type": "stream",
     "text": [
      "Close Number is to Low, try again\n"
     ]
    },
    {
     "name": "stdin",
     "output_type": "stream",
     "text": [
      "guess a number from 5-8:  5\n"
     ]
    },
    {
     "name": "stdout",
     "output_type": "stream",
     "text": [
      "Close Number is to Low, try again\n"
     ]
    },
    {
     "name": "stdin",
     "output_type": "stream",
     "text": [
      "guess a number from 5-8:  7\n"
     ]
    },
    {
     "name": "stdout",
     "output_type": "stream",
     "text": [
      "congrats !! You got it in 3 tries!!!\n"
     ]
    }
   ],
   "source": [
    "import random #importing random libary\n",
    "S1=int(input(\"Choose start of your Guess Range\")) #allowing user to set start range\n",
    "E1=int(input(\"Choose end of you Guess Range\")) #allowing user to set end range \n",
    "\n",
    "nr01= random.randint(S1,E1) #defining random nr to choose right\n",
    "attempts=0 # defining attempts, setting it to zeroe before loop\n",
    "\n",
    "\n",
    "while True: #creating loop executing while true\n",
    "    in_nr02= int(input(f\"guess a number from {S1}-{E1}: \")) # defining user input nr (while taking into account the range) \n",
    "    attempts+=1 #logging amounts of attemmpt, by amount of loops\n",
    "\n",
    "    if in_nr02== nr01: #condition if guees is right \n",
    "        print (f\"congrats !! You got it in {attempts} tries!!!\") #condition right statement\n",
    "        break #force quit loop based in right guess \n",
    "    elif in_nr02>nr01: #giving a hint  \n",
    "        print (\"Close Number is to High, try again\") #hint print statement \n",
    "    else:\n",
    "        print (\"Close Number is to Low, try again\") #hint print statement"
   ]
  },
  {
   "cell_type": "markdown",
   "id": "d53b9c07",
   "metadata": {},
   "source": [
    "-----------------------------------------------------------------------------\n",
    "# Exercise 08\n",
    "Ask a sentence as input, then print the words in alphabetical order.\n",
    "Hint: look up how to split up a string"
   ]
  },
  {
   "cell_type": "code",
   "execution_count": 20,
   "id": "b6524cf5",
   "metadata": {},
   "outputs": [
    {
     "name": "stdin",
     "output_type": "stream",
     "text": [
      "Please give me a sentance! hello adelyne ill be late for work\n"
     ]
    },
    {
     "name": "stdout",
     "output_type": "stream",
     "text": [
      "['adelyne', 'be', 'for', 'hello', 'ill', 'late', 'work']\n"
     ]
    }
   ],
   "source": [
    "in_st01= input(\"Please give me a sentance!\") #input sentence\n",
    "\n",
    "words_st01=in_st01.split() #split sentence in words\n",
    "\n",
    "words_st01.sort(reverse=False) #sorts A-Z based on first letter (Z-A= reverse.True)\n",
    "print(words_st01)#output \n",
    "\n",
    "    "
   ]
  },
  {
   "cell_type": "markdown",
   "id": "09a7b060",
   "metadata": {},
   "source": [
    "-----------------------------------------------------------------------------\n",
    "# Exercise 09\n",
    "Write a program using for loops to print a christmas tree of x lines high\n",
    "specified by the user.\n",
    "(use for loops)\n",
    "so for instance, a chrismas tree of 4 high should looks like this:\n",
    "\n",
    "```\n",
    "\n",
    "    *\n",
    "   ***\n",
    "  *****\n",
    " *******\n",
    "    |\n",
    "\n",
    "```\n",
    "\n",
    "hint: first combine strings into a variable before printing"
   ]
  },
  {
   "cell_type": "code",
   "execution_count": 30,
   "id": "5150f7a4",
   "metadata": {},
   "outputs": [
    {
     "name": "stdin",
     "output_type": "stream",
     "text": [
      "How many rows for this Pine with dime?  8\n"
     ]
    },
    {
     "name": "stdout",
     "output_type": "stream",
     "text": [
      "       7\n",
      "      777\n",
      "     77777\n",
      "    7777777\n",
      "   777777777\n",
      "  77777777777\n",
      " 7777777777777\n",
      "777777777777777\n",
      "       T\n"
     ]
    }
   ],
   "source": [
    "rows= int(input(\"How many rows for this Pine with dime? \")) # user choice of rows\n",
    "\n",
    "for t in range(1,rows+1): # not super clear\n",
    "    spaces=\" \"*(rows-t) # \n",
    "    sevens=\"7\"*(t*2-1)\n",
    "    print(spaces+sevens)\n",
    "print (\" \"*(rows-1)+\"T\")\n",
    "\n",
    "\n",
    "\n"
   ]
  },
  {
   "cell_type": "markdown",
   "id": "07f67531",
   "metadata": {},
   "source": [
    "-----------------------------------------------------------------------------\n",
    "# Exercise 10\n",
    "Write a piece of code that prints the first $n$ numbers of the padovan sequence"
   ]
  },
  {
   "cell_type": "code",
   "execution_count": 43,
   "id": "d301c61b",
   "metadata": {},
   "outputs": [
    {
     "name": "stdin",
     "output_type": "stream",
     "text": [
      "Input ur desired range!  77\n"
     ]
    },
    {
     "name": "stdout",
     "output_type": "stream",
     "text": [
      "The first 77 numbers of the Padovan sequence are [1, 1, 1, 2, 2, 3, 4, 5, 7, 9, 12, 16, 21, 28, 37, 49, 65, 86, 114, 151, 200, 265, 351, 465, 616, 816, 1081, 1432, 1897, 2513, 3329, 4410, 5842, 7739, 10252, 13581, 17991, 23833, 31572, 41824, 55405, 73396, 97229, 128801, 170625, 226030, 299426, 396655, 525456, 696081, 922111, 1221537, 1618192, 2143648, 2839729, 3761840, 4983377, 6601569, 8745217, 11584946, 15346786, 20330163, 26931732, 35676949, 47261895, 62608681, 82938844, 109870576, 145547525, 192809420, 255418101, 338356945, 448227521, 593775046, 786584466, 1042002567, 1380359512]\n"
     ]
    }
   ],
   "source": [
    "n=int(input(\"Input ur desired range! \")) #user choice of range \n",
    "\n",
    "def p_seq(n): #sets initial list, defines list addition, combines lists\n",
    "\n",
    "    pad = [1,1,1] #initial list \n",
    "\n",
    "    for i in range (3,n): #numbers below tree will return 1\n",
    "        pad.append(pad[i-2] + pad[i-3]) #list addition acc to pad until range \n",
    "\n",
    "    return pad[:n] #integrates both lists \n",
    "p_seq(n) # entire list\n",
    "print(f\"The first {n} numbers of the Padovan sequence are {p_seq(n)}\") # output \n",
    "\n",
    "    "
   ]
  },
  {
   "cell_type": "code",
   "execution_count": null,
   "id": "1fbfd31d-002d-4a86-b936-8868c0c1aa37",
   "metadata": {},
   "outputs": [],
   "source": []
  }
 ],
 "metadata": {
  "kernelspec": {
   "display_name": "Python 3 (ipykernel)",
   "language": "python",
   "name": "python3"
  },
  "language_info": {
   "codemirror_mode": {
    "name": "ipython",
    "version": 3
   },
   "file_extension": ".py",
   "mimetype": "text/x-python",
   "name": "python",
   "nbconvert_exporter": "python",
   "pygments_lexer": "ipython3",
   "version": "3.11.10"
  }
 },
 "nbformat": 4,
 "nbformat_minor": 5
}
